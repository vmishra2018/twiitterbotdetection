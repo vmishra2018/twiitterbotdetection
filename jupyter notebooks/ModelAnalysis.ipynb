{
 "cells": [
  {
   "cell_type": "markdown",
   "metadata": {},
   "source": [
    "## Twitter Bot Detection Model Analysis\n",
    "\n",
    "**Summer 2018**<br>\n",
    "**Contributers:** Karan Bhandarkar and Vivek Mishra\n"
   ]
  },
  {
   "cell_type": "code",
   "execution_count": 1,
   "metadata": {},
   "outputs": [],
   "source": [
    "import warnings\n",
    "warnings.filterwarnings('ignore')\n",
    "\n",
    "%matplotlib inline\n",
    "import json\n",
    "import numpy as np # imports a fast numerical programming library\n",
    "import scipy as sp #imports stats functions, amongst other things\n",
    "import matplotlib as mpl # this actually imports matplotlib\n",
    "import matplotlib.cm as cm #allows us easy access to colormaps\n",
    "import matplotlib.pyplot as plt #sets up plotting under plt\n",
    "import pandas as pd #lets us handle data as dataframes\n",
    "#sets up pandas table display\n",
    "pd.set_option('display.width', 500)\n",
    "pd.set_option('display.max_columns', 100)\n",
    "pd.set_option('display.notebook_repr_html', True)\n",
    "from bs4 import BeautifulSoup\n",
    "import re\n",
    "#import unidecode\n",
    "from pandas.plotting import scatter_matrix\n",
    "from wordcloud import WordCloud, STOPWORDS"
   ]
  },
  {
   "cell_type": "code",
   "execution_count": 2,
   "metadata": {},
   "outputs": [],
   "source": [
    "tweets_with_accounts = pd.read_csv(\"../data/tweets_with_accounts.csv\", index_col=0)"
   ]
  },
  {
   "cell_type": "code",
   "execution_count": 3,
   "metadata": {},
   "outputs": [
    {
     "data": {
      "text/plain": [
       "screen_name          object\n",
       "popularity_ratio    float64\n",
       "listed_count          int64\n",
       "verified              int64\n",
       "tweets_per_day      float64\n",
       "default_profile       int64\n",
       "name                 object\n",
       "full_text            object\n",
       "lang                 object\n",
       "isBot               float64\n",
       "dtype: object"
      ]
     },
     "execution_count": 3,
     "metadata": {},
     "output_type": "execute_result"
    }
   ],
   "source": [
    "tweets_with_accounts.dtypes"
   ]
  },
  {
   "cell_type": "code",
   "execution_count": 4,
   "metadata": {},
   "outputs": [
    {
     "data": {
      "text/html": [
       "<div>\n",
       "<style scoped>\n",
       "    .dataframe tbody tr th:only-of-type {\n",
       "        vertical-align: middle;\n",
       "    }\n",
       "\n",
       "    .dataframe tbody tr th {\n",
       "        vertical-align: top;\n",
       "    }\n",
       "\n",
       "    .dataframe thead th {\n",
       "        text-align: right;\n",
       "    }\n",
       "</style>\n",
       "<table border=\"1\" class=\"dataframe\">\n",
       "  <thead>\n",
       "    <tr style=\"text-align: right;\">\n",
       "      <th></th>\n",
       "      <th>screen_name</th>\n",
       "      <th>popularity_ratio</th>\n",
       "      <th>listed_count</th>\n",
       "      <th>verified</th>\n",
       "      <th>tweets_per_day</th>\n",
       "      <th>default_profile</th>\n",
       "      <th>name</th>\n",
       "      <th>full_text</th>\n",
       "      <th>lang</th>\n",
       "      <th>isBot</th>\n",
       "    </tr>\n",
       "  </thead>\n",
       "  <tbody>\n",
       "    <tr>\n",
       "      <th>0</th>\n",
       "      <td>DearAssistant</td>\n",
       "      <td>0.000213</td>\n",
       "      <td>146</td>\n",
       "      <td>0</td>\n",
       "      <td>2.682644</td>\n",
       "      <td>0</td>\n",
       "      <td>DearAssistant</td>\n",
       "      <td>2159.3 miles RT @Hi_5040 whats the lenght of t...</td>\n",
       "      <td>en</td>\n",
       "      <td>1.0</td>\n",
       "    </tr>\n",
       "    <tr>\n",
       "      <th>1</th>\n",
       "      <td>SanJacintoClan</td>\n",
       "      <td>1.988737</td>\n",
       "      <td>19</td>\n",
       "      <td>0</td>\n",
       "      <td>14.762141</td>\n",
       "      <td>0</td>\n",
       "      <td>SanJacintoClan</td>\n",
       "      <td>Sean Rima: The Rape of The Alamo. https://t.co...</td>\n",
       "      <td>en</td>\n",
       "      <td>1.0</td>\n",
       "    </tr>\n",
       "    <tr>\n",
       "      <th>2</th>\n",
       "      <td>SanJacintoClan</td>\n",
       "      <td>1.988737</td>\n",
       "      <td>19</td>\n",
       "      <td>0</td>\n",
       "      <td>14.762141</td>\n",
       "      <td>0</td>\n",
       "      <td>SanJacintoClan</td>\n",
       "      <td>https://t.co/P28ddc7a4C</td>\n",
       "      <td>und</td>\n",
       "      <td>1.0</td>\n",
       "    </tr>\n",
       "    <tr>\n",
       "      <th>3</th>\n",
       "      <td>SanJacintoClan</td>\n",
       "      <td>1.988737</td>\n",
       "      <td>19</td>\n",
       "      <td>0</td>\n",
       "      <td>14.762141</td>\n",
       "      <td>0</td>\n",
       "      <td>SanJacintoClan</td>\n",
       "      <td>Martinez is the cousin to the wife of the gove...</td>\n",
       "      <td>en</td>\n",
       "      <td>1.0</td>\n",
       "    </tr>\n",
       "    <tr>\n",
       "      <th>4</th>\n",
       "      <td>SanJacintoClan</td>\n",
       "      <td>1.988737</td>\n",
       "      <td>19</td>\n",
       "      <td>0</td>\n",
       "      <td>14.762141</td>\n",
       "      <td>0</td>\n",
       "      <td>SanJacintoClan</td>\n",
       "      <td>Charlotte Rae, 'The Facts of Life' and 'Diff'r...</td>\n",
       "      <td>en</td>\n",
       "      <td>1.0</td>\n",
       "    </tr>\n",
       "  </tbody>\n",
       "</table>\n",
       "</div>"
      ],
      "text/plain": [
       "      screen_name  popularity_ratio  listed_count  verified  tweets_per_day  default_profile            name                                          full_text lang  isBot\n",
       "0   DearAssistant          0.000213           146         0        2.682644                0   DearAssistant  2159.3 miles RT @Hi_5040 whats the lenght of t...   en    1.0\n",
       "1  SanJacintoClan          1.988737            19         0       14.762141                0  SanJacintoClan  Sean Rima: The Rape of The Alamo. https://t.co...   en    1.0\n",
       "2  SanJacintoClan          1.988737            19         0       14.762141                0  SanJacintoClan                            https://t.co/P28ddc7a4C  und    1.0\n",
       "3  SanJacintoClan          1.988737            19         0       14.762141                0  SanJacintoClan  Martinez is the cousin to the wife of the gove...   en    1.0\n",
       "4  SanJacintoClan          1.988737            19         0       14.762141                0  SanJacintoClan  Charlotte Rae, 'The Facts of Life' and 'Diff'r...   en    1.0"
      ]
     },
     "execution_count": 4,
     "metadata": {},
     "output_type": "execute_result"
    }
   ],
   "source": [
    "tweets_with_accounts.head()"
   ]
  },
  {
   "cell_type": "code",
   "execution_count": 5,
   "metadata": {},
   "outputs": [
    {
     "name": "stdout",
     "output_type": "stream",
     "text": [
      " Training data size is 250869 and test data size is 83624 and tune data size is 83623\n"
     ]
    }
   ],
   "source": [
    "## Splitting the data into training and test data\n",
    "from sklearn.model_selection import train_test_split\n",
    "from sklearn.preprocessing import StandardScaler\n",
    "\n",
    "## Removing NaN indexes from dataframe\n",
    "tweets_with_accounts = tweets_with_accounts[tweets_with_accounts.listed_count.notnull()]\n",
    "tweets_with_accounts = tweets_with_accounts[tweets_with_accounts.popularity_ratio.notnull()]\n",
    "tweets_with_accounts = tweets_with_accounts[tweets_with_accounts.verified.notnull()]\n",
    "tweets_with_accounts = tweets_with_accounts[tweets_with_accounts.tweets_per_day.notnull()]\n",
    "tweets_with_accounts = tweets_with_accounts[tweets_with_accounts.default_profile.notnull()]\n",
    "tweets_with_accounts = tweets_with_accounts[tweets_with_accounts.isBot.notnull()]\n",
    "\n",
    "training_data, test_tune_data = train_test_split(tweets_with_accounts, test_size=.4)\n",
    "\n",
    "tune_data, test_data = train_test_split(test_tune_data, test_size=.5)\n",
    "\n",
    "print(\" Training data size is {} and test data size is {} and tune data size is {}\".\n",
    "      format(len(training_data), len(test_data), len(tune_data)))\n",
    "\n"
   ]
  },
  {
   "cell_type": "code",
   "execution_count": 6,
   "metadata": {},
   "outputs": [
    {
     "data": {
      "text/html": [
       "<div>\n",
       "<style scoped>\n",
       "    .dataframe tbody tr th:only-of-type {\n",
       "        vertical-align: middle;\n",
       "    }\n",
       "\n",
       "    .dataframe tbody tr th {\n",
       "        vertical-align: top;\n",
       "    }\n",
       "\n",
       "    .dataframe thead th {\n",
       "        text-align: right;\n",
       "    }\n",
       "</style>\n",
       "<table border=\"1\" class=\"dataframe\">\n",
       "  <thead>\n",
       "    <tr style=\"text-align: right;\">\n",
       "      <th></th>\n",
       "      <th>screen_name</th>\n",
       "      <th>popularity_ratio</th>\n",
       "      <th>listed_count</th>\n",
       "      <th>verified</th>\n",
       "      <th>tweets_per_day</th>\n",
       "      <th>default_profile</th>\n",
       "      <th>name</th>\n",
       "      <th>full_text</th>\n",
       "      <th>lang</th>\n",
       "      <th>isBot</th>\n",
       "    </tr>\n",
       "  </thead>\n",
       "  <tbody>\n",
       "    <tr>\n",
       "      <th>288882</th>\n",
       "      <td>thinkpiecebot</td>\n",
       "      <td>0.002262</td>\n",
       "      <td>706</td>\n",
       "      <td>0</td>\n",
       "      <td>27.346260</td>\n",
       "      <td>0</td>\n",
       "      <td>thinkpiecebot</td>\n",
       "      <td>Is Progressive Campuses Overrated?</td>\n",
       "      <td>en</td>\n",
       "      <td>1.0</td>\n",
       "    </tr>\n",
       "    <tr>\n",
       "      <th>344935</th>\n",
       "      <td>ALTLENE_bot</td>\n",
       "      <td>0.864669</td>\n",
       "      <td>74</td>\n",
       "      <td>0</td>\n",
       "      <td>331.120043</td>\n",
       "      <td>0</td>\n",
       "      <td>ALTLENE_bot</td>\n",
       "      <td>あの、ここしばらく、食生活を観察してみたのです！もっとギュウドン食べるのです！</td>\n",
       "      <td>ja</td>\n",
       "      <td>1.0</td>\n",
       "    </tr>\n",
       "    <tr>\n",
       "      <th>111557</th>\n",
       "      <td>305_shahd</td>\n",
       "      <td>2.187500</td>\n",
       "      <td>3</td>\n",
       "      <td>0</td>\n",
       "      <td>23.028959</td>\n",
       "      <td>1</td>\n",
       "      <td>305_shahd</td>\n",
       "      <td>اللهم ارحم واغفر لى ولجميع المسلمين والمسلمات ...</td>\n",
       "      <td>ar</td>\n",
       "      <td>1.0</td>\n",
       "    </tr>\n",
       "    <tr>\n",
       "      <th>410639</th>\n",
       "      <td>SteveStuWill</td>\n",
       "      <td>0.007618</td>\n",
       "      <td>480</td>\n",
       "      <td>0</td>\n",
       "      <td>4.815480</td>\n",
       "      <td>0</td>\n",
       "      <td>SteveStuWill</td>\n",
       "      <td>One of my favourite ever tweets (from @_ChestB...</td>\n",
       "      <td>en</td>\n",
       "      <td>0.0</td>\n",
       "    </tr>\n",
       "    <tr>\n",
       "      <th>138050</th>\n",
       "      <td>Horse_ebooks</td>\n",
       "      <td>0.089310</td>\n",
       "      <td>1744</td>\n",
       "      <td>0</td>\n",
       "      <td>6.431500</td>\n",
       "      <td>1</td>\n",
       "      <td>Horse_ebooks</td>\n",
       "      <td>are worth the attention to create a \"balance\".</td>\n",
       "      <td>en</td>\n",
       "      <td>1.0</td>\n",
       "    </tr>\n",
       "  </tbody>\n",
       "</table>\n",
       "</div>"
      ],
      "text/plain": [
       "          screen_name  popularity_ratio  listed_count  verified  tweets_per_day  default_profile           name                                          full_text lang  isBot\n",
       "288882  thinkpiecebot          0.002262           706         0       27.346260                0  thinkpiecebot                 Is Progressive Campuses Overrated?   en    1.0\n",
       "344935    ALTLENE_bot          0.864669            74         0      331.120043                0    ALTLENE_bot            あの、ここしばらく、食生活を観察してみたのです！もっとギュウドン食べるのです！   ja    1.0\n",
       "111557      305_shahd          2.187500             3         0       23.028959                1      305_shahd  اللهم ارحم واغفر لى ولجميع المسلمين والمسلمات ...   ar    1.0\n",
       "410639   SteveStuWill          0.007618           480         0        4.815480                0   SteveStuWill  One of my favourite ever tweets (from @_ChestB...   en    0.0\n",
       "138050   Horse_ebooks          0.089310          1744         0        6.431500                1   Horse_ebooks     are worth the attention to create a \"balance\".   en    1.0"
      ]
     },
     "execution_count": 6,
     "metadata": {},
     "output_type": "execute_result"
    }
   ],
   "source": [
    "training_data.head()"
   ]
  },
  {
   "cell_type": "markdown",
   "metadata": {},
   "source": [
    "### Feature Selection and standardizing the predictors"
   ]
  },
  {
   "cell_type": "code",
   "execution_count": 7,
   "metadata": {},
   "outputs": [],
   "source": [
    "num_features =  [\"listed_count\", \"tweets_per_day\"]\n",
    "\n",
    "scaler = StandardScaler()\n",
    "for feat in num_features:\n",
    "    training_data[feat] = scaler.fit_transform(training_data[feat].values.reshape(-1,1))\n",
    "    test_data[feat] = scaler.fit_transform(test_data[feat].values.reshape(-1,1))\n"
   ]
  },
  {
   "cell_type": "markdown",
   "metadata": {},
   "source": [
    "### Building predictors dataset(X_train, X_test) and response dataset(y_train, y_test)"
   ]
  },
  {
   "cell_type": "code",
   "execution_count": 8,
   "metadata": {},
   "outputs": [
    {
     "data": {
      "text/html": [
       "<div>\n",
       "<style scoped>\n",
       "    .dataframe tbody tr th:only-of-type {\n",
       "        vertical-align: middle;\n",
       "    }\n",
       "\n",
       "    .dataframe tbody tr th {\n",
       "        vertical-align: top;\n",
       "    }\n",
       "\n",
       "    .dataframe thead th {\n",
       "        text-align: right;\n",
       "    }\n",
       "</style>\n",
       "<table border=\"1\" class=\"dataframe\">\n",
       "  <thead>\n",
       "    <tr style=\"text-align: right;\">\n",
       "      <th></th>\n",
       "      <th>screen_name</th>\n",
       "      <th>popularity_ratio</th>\n",
       "      <th>listed_count</th>\n",
       "      <th>verified</th>\n",
       "      <th>tweets_per_day</th>\n",
       "      <th>default_profile</th>\n",
       "      <th>name</th>\n",
       "      <th>full_text</th>\n",
       "      <th>lang</th>\n",
       "      <th>isBot</th>\n",
       "    </tr>\n",
       "  </thead>\n",
       "  <tbody>\n",
       "    <tr>\n",
       "      <th>82684</th>\n",
       "      <td>CryptOrca</td>\n",
       "      <td>0.006924</td>\n",
       "      <td>-0.053594</td>\n",
       "      <td>0</td>\n",
       "      <td>-0.480397</td>\n",
       "      <td>0</td>\n",
       "      <td>CryptOrca</td>\n",
       "      <td>#WorldCup2018 \\n\\nToday's menu ... French croi...</td>\n",
       "      <td>en</td>\n",
       "      <td>0.0</td>\n",
       "    </tr>\n",
       "    <tr>\n",
       "      <th>258965</th>\n",
       "      <td>RitholtzWealth</td>\n",
       "      <td>0.006664</td>\n",
       "      <td>-0.145971</td>\n",
       "      <td>0</td>\n",
       "      <td>-0.530977</td>\n",
       "      <td>1</td>\n",
       "      <td>RitholtzWealth</td>\n",
       "      <td>Today in Market History, 1974:\\n\\nThe House of...</td>\n",
       "      <td>en</td>\n",
       "      <td>0.0</td>\n",
       "    </tr>\n",
       "    <tr>\n",
       "      <th>170392</th>\n",
       "      <td>LizAnnSonders</td>\n",
       "      <td>0.009393</td>\n",
       "      <td>-0.117404</td>\n",
       "      <td>1</td>\n",
       "      <td>-0.486326</td>\n",
       "      <td>1</td>\n",
       "      <td>LizAnnSonders</td>\n",
       "      <td>July’s @Conferenceboard confidence index rose ...</td>\n",
       "      <td>en</td>\n",
       "      <td>0.0</td>\n",
       "    </tr>\n",
       "    <tr>\n",
       "      <th>292296</th>\n",
       "      <td>cmcal_bot</td>\n",
       "      <td>0.000446</td>\n",
       "      <td>-0.150936</td>\n",
       "      <td>0</td>\n",
       "      <td>-0.154008</td>\n",
       "      <td>0</td>\n",
       "      <td>cmcal_bot</td>\n",
       "      <td>🆕 New General Event $CRYPTO event! \\n \\n12 Oct...</td>\n",
       "      <td>en</td>\n",
       "      <td>1.0</td>\n",
       "    </tr>\n",
       "    <tr>\n",
       "      <th>121301</th>\n",
       "      <td>cullenroche</td>\n",
       "      <td>0.046377</td>\n",
       "      <td>-0.090219</td>\n",
       "      <td>0</td>\n",
       "      <td>-0.493776</td>\n",
       "      <td>0</td>\n",
       "      <td>cullenroche</td>\n",
       "      <td>A “Hard Knocks” Finance Lesson https://t.co/qP...</td>\n",
       "      <td>en</td>\n",
       "      <td>0.0</td>\n",
       "    </tr>\n",
       "  </tbody>\n",
       "</table>\n",
       "</div>"
      ],
      "text/plain": [
       "           screen_name  popularity_ratio  listed_count  verified  tweets_per_day  default_profile            name                                          full_text lang  isBot\n",
       "82684        CryptOrca          0.006924     -0.053594         0       -0.480397                0       CryptOrca  #WorldCup2018 \\n\\nToday's menu ... French croi...   en    0.0\n",
       "258965  RitholtzWealth          0.006664     -0.145971         0       -0.530977                1  RitholtzWealth  Today in Market History, 1974:\\n\\nThe House of...   en    0.0\n",
       "170392   LizAnnSonders          0.009393     -0.117404         1       -0.486326                1   LizAnnSonders  July’s @Conferenceboard confidence index rose ...   en    0.0\n",
       "292296       cmcal_bot          0.000446     -0.150936         0       -0.154008                0       cmcal_bot  🆕 New General Event $CRYPTO event! \\n \\n12 Oct...   en    1.0\n",
       "121301     cullenroche          0.046377     -0.090219         0       -0.493776                0     cullenroche  A “Hard Knocks” Finance Lesson https://t.co/qP...   en    0.0"
      ]
     },
     "execution_count": 8,
     "metadata": {},
     "output_type": "execute_result"
    }
   ],
   "source": [
    "test_data.head()"
   ]
  },
  {
   "cell_type": "code",
   "execution_count": 9,
   "metadata": {},
   "outputs": [],
   "source": [
    "X_train = training_data[[\"popularity_ratio\", \"listed_count\", \"verified\",\"tweets_per_day\",\"default_profile\"]]\n",
    "y_train = training_data[[\"isBot\"]]\n",
    "\n",
    "X_test = test_data[[\"popularity_ratio\", \"listed_count\", \"verified\",\"tweets_per_day\",\"default_profile\"]]\n",
    "y_test = test_data[[\"isBot\"]]\n",
    "\n",
    "X_tune = tune_data[[\"popularity_ratio\", \"listed_count\", \"verified\",\"tweets_per_day\",\"default_profile\"]]\n",
    "y_tune = tune_data[[\"isBot\"]]"
   ]
  },
  {
   "cell_type": "code",
   "execution_count": 10,
   "metadata": {},
   "outputs": [
    {
     "data": {
      "text/html": [
       "<div>\n",
       "<style scoped>\n",
       "    .dataframe tbody tr th:only-of-type {\n",
       "        vertical-align: middle;\n",
       "    }\n",
       "\n",
       "    .dataframe tbody tr th {\n",
       "        vertical-align: top;\n",
       "    }\n",
       "\n",
       "    .dataframe thead th {\n",
       "        text-align: right;\n",
       "    }\n",
       "</style>\n",
       "<table border=\"1\" class=\"dataframe\">\n",
       "  <thead>\n",
       "    <tr style=\"text-align: right;\">\n",
       "      <th></th>\n",
       "      <th>popularity_ratio</th>\n",
       "      <th>listed_count</th>\n",
       "      <th>verified</th>\n",
       "      <th>tweets_per_day</th>\n",
       "      <th>default_profile</th>\n",
       "    </tr>\n",
       "  </thead>\n",
       "  <tbody>\n",
       "    <tr>\n",
       "      <th>288882</th>\n",
       "      <td>0.002262</td>\n",
       "      <td>-0.127427</td>\n",
       "      <td>0</td>\n",
       "      <td>-0.043012</td>\n",
       "      <td>0</td>\n",
       "    </tr>\n",
       "    <tr>\n",
       "      <th>344935</th>\n",
       "      <td>0.864669</td>\n",
       "      <td>-0.152871</td>\n",
       "      <td>0</td>\n",
       "      <td>5.863756</td>\n",
       "      <td>0</td>\n",
       "    </tr>\n",
       "    <tr>\n",
       "      <th>111557</th>\n",
       "      <td>2.187500</td>\n",
       "      <td>-0.155730</td>\n",
       "      <td>0</td>\n",
       "      <td>-0.126960</td>\n",
       "      <td>1</td>\n",
       "    </tr>\n",
       "    <tr>\n",
       "      <th>410639</th>\n",
       "      <td>0.007618</td>\n",
       "      <td>-0.136526</td>\n",
       "      <td>0</td>\n",
       "      <td>-0.481114</td>\n",
       "      <td>0</td>\n",
       "    </tr>\n",
       "    <tr>\n",
       "      <th>138050</th>\n",
       "      <td>0.089310</td>\n",
       "      <td>-0.085638</td>\n",
       "      <td>0</td>\n",
       "      <td>-0.449691</td>\n",
       "      <td>1</td>\n",
       "    </tr>\n",
       "  </tbody>\n",
       "</table>\n",
       "</div>"
      ],
      "text/plain": [
       "        popularity_ratio  listed_count  verified  tweets_per_day  default_profile\n",
       "288882          0.002262     -0.127427         0       -0.043012                0\n",
       "344935          0.864669     -0.152871         0        5.863756                0\n",
       "111557          2.187500     -0.155730         0       -0.126960                1\n",
       "410639          0.007618     -0.136526         0       -0.481114                0\n",
       "138050          0.089310     -0.085638         0       -0.449691                1"
      ]
     },
     "execution_count": 10,
     "metadata": {},
     "output_type": "execute_result"
    }
   ],
   "source": [
    "X_train.head()"
   ]
  },
  {
   "cell_type": "code",
   "execution_count": 11,
   "metadata": {},
   "outputs": [
    {
     "data": {
      "text/html": [
       "<div>\n",
       "<style scoped>\n",
       "    .dataframe tbody tr th:only-of-type {\n",
       "        vertical-align: middle;\n",
       "    }\n",
       "\n",
       "    .dataframe tbody tr th {\n",
       "        vertical-align: top;\n",
       "    }\n",
       "\n",
       "    .dataframe thead th {\n",
       "        text-align: right;\n",
       "    }\n",
       "</style>\n",
       "<table border=\"1\" class=\"dataframe\">\n",
       "  <thead>\n",
       "    <tr style=\"text-align: right;\">\n",
       "      <th></th>\n",
       "      <th>popularity_ratio</th>\n",
       "      <th>listed_count</th>\n",
       "      <th>verified</th>\n",
       "      <th>tweets_per_day</th>\n",
       "      <th>default_profile</th>\n",
       "    </tr>\n",
       "  </thead>\n",
       "  <tbody>\n",
       "    <tr>\n",
       "      <th>82684</th>\n",
       "      <td>0.006924</td>\n",
       "      <td>-0.053594</td>\n",
       "      <td>0</td>\n",
       "      <td>-0.480397</td>\n",
       "      <td>0</td>\n",
       "    </tr>\n",
       "    <tr>\n",
       "      <th>258965</th>\n",
       "      <td>0.006664</td>\n",
       "      <td>-0.145971</td>\n",
       "      <td>0</td>\n",
       "      <td>-0.530977</td>\n",
       "      <td>1</td>\n",
       "    </tr>\n",
       "    <tr>\n",
       "      <th>170392</th>\n",
       "      <td>0.009393</td>\n",
       "      <td>-0.117404</td>\n",
       "      <td>1</td>\n",
       "      <td>-0.486326</td>\n",
       "      <td>1</td>\n",
       "    </tr>\n",
       "    <tr>\n",
       "      <th>292296</th>\n",
       "      <td>0.000446</td>\n",
       "      <td>-0.150936</td>\n",
       "      <td>0</td>\n",
       "      <td>-0.154008</td>\n",
       "      <td>0</td>\n",
       "    </tr>\n",
       "    <tr>\n",
       "      <th>121301</th>\n",
       "      <td>0.046377</td>\n",
       "      <td>-0.090219</td>\n",
       "      <td>0</td>\n",
       "      <td>-0.493776</td>\n",
       "      <td>0</td>\n",
       "    </tr>\n",
       "  </tbody>\n",
       "</table>\n",
       "</div>"
      ],
      "text/plain": [
       "        popularity_ratio  listed_count  verified  tweets_per_day  default_profile\n",
       "82684           0.006924     -0.053594         0       -0.480397                0\n",
       "258965          0.006664     -0.145971         0       -0.530977                1\n",
       "170392          0.009393     -0.117404         1       -0.486326                1\n",
       "292296          0.000446     -0.150936         0       -0.154008                0\n",
       "121301          0.046377     -0.090219         0       -0.493776                0"
      ]
     },
     "execution_count": 11,
     "metadata": {},
     "output_type": "execute_result"
    }
   ],
   "source": [
    "X_test.head()"
   ]
  },
  {
   "cell_type": "code",
   "execution_count": 12,
   "metadata": {},
   "outputs": [
    {
     "name": "stdout",
     "output_type": "stream",
     "text": [
      "X_train shape is (250869, 5), and y_train shape is (250869, 1)\n"
     ]
    }
   ],
   "source": [
    "print(\"X_train shape is {}, and y_train shape is {}\".format(X_train.shape, y_train.shape))"
   ]
  },
  {
   "cell_type": "markdown",
   "metadata": {},
   "source": [
    "###  Our Base Line Model is  a simple Logistic Regression Model"
   ]
  },
  {
   "cell_type": "code",
   "execution_count": 13,
   "metadata": {},
   "outputs": [
    {
     "name": "stdout",
     "output_type": "stream",
     "text": [
      "Train set score: 90.22%\n",
      "Test set score: 89.94%\n"
     ]
    }
   ],
   "source": [
    "from sklearn.linear_model import LogisticRegression\n",
    "\n",
    "model_collection = {}\n",
    "\n",
    "logit_model = LogisticRegression().fit(X_train, y_train)\n",
    "\n",
    "logistic_model_score = logit_model.score(X_test, y_test)\n",
    "\n",
    "model_collection[\"simple_logistic\"] = logit_model\n",
    "\n",
    "print(\"Train set score: {0:4.4}%\".format(logit_model.score(X_train, y_train)*100))\n",
    "print(\"Test set score: {0:4.4}%\".format(logit_model.score(X_test, y_test)*100))\n"
   ]
  },
  {
   "cell_type": "markdown",
   "metadata": {},
   "source": [
    "**Our Test score is 91% which is not bad for a Base Model considering our worst chance is 50% **"
   ]
  },
  {
   "cell_type": "markdown",
   "metadata": {},
   "source": [
    "### Next Model is LogisticRegression with Cross Validation"
   ]
  },
  {
   "cell_type": "code",
   "execution_count": 14,
   "metadata": {},
   "outputs": [
    {
     "name": "stdout",
     "output_type": "stream",
     "text": [
      "Test set score with Cross Validation: 89.94%\n"
     ]
    }
   ],
   "source": [
    "from sklearn.linear_model import LogisticRegressionCV\n",
    "logic_model_cv = LogisticRegressionCV(Cs=[1,10,100,1000,10000], cv=3, penalty='l2', \n",
    "                                       solver='newton-cg').fit(X_train,y_train)\n",
    "\n",
    "model_collection[\"simple_logistic_CV\"] = logic_model_cv\n",
    "print(\"Test set score with Cross Validation: {0:4.4}%\".format(logic_model_cv.score(X_test, y_test)*100))\n"
   ]
  },
  {
   "cell_type": "markdown",
   "metadata": {},
   "source": [
    "** Cross validation with Regularization is giving us ~ 85 % accuracy which is an improvement from the base model, and We would like to see how we can improve this further. **"
   ]
  },
  {
   "cell_type": "markdown",
   "metadata": {},
   "source": [
    "### Adding Polynomial of 3 degrees and using Logistic Regression "
   ]
  },
  {
   "cell_type": "code",
   "execution_count": 15,
   "metadata": {},
   "outputs": [],
   "source": [
    "from sklearn.preprocessing import PolynomialFeatures\n",
    "\n",
    "X_train_poly = PolynomialFeatures(degree=3, include_bias=False).fit_transform(X_train)\n",
    "X_test_poly = PolynomialFeatures(degree=3, include_bias=False).fit_transform(X_test)\n",
    "\n",
    "logic_model_poly_cv = LogisticRegressionCV(Cs=[1,10,100,1000,10000], cv=3, penalty='l2', \n",
    "                                       solver='newton-cg').fit(X_train_poly,y_train)\n",
    "\n",
    "model_collection[\"poly_logistic_cv\"] = logic_model_poly_cv\n"
   ]
  },
  {
   "cell_type": "code",
   "execution_count": 16,
   "metadata": {},
   "outputs": [
    {
     "name": "stdout",
     "output_type": "stream",
     "text": [
      "Test set score with Polynomial Features and with Cross Validation: 89.94%\n"
     ]
    }
   ],
   "source": [
    "print(\"Test set score with Polynomial Features and with Cross Validation: {0:4.4}%\".\n",
    "      format(logic_model_cv.score(X_test, y_test)*100))"
   ]
  },
  {
   "cell_type": "markdown",
   "metadata": {},
   "source": [
    "** Test score is much better now with Polynomial degree of predictors, We will continue to look for improvements **\n",
    "**with other different models that we learned in the class ** "
   ]
  },
  {
   "cell_type": "markdown",
   "metadata": {},
   "source": [
    "### Decision Tree Classifier\n",
    "\n",
    "We are going to look at how Decision Tree Classifier fits into our data set, we are going to look at multiple depths and use cross validation score method of sklearn to find out which depth fits perfect and not overfit.(reference from HW6)"
   ]
  },
  {
   "cell_type": "code",
   "execution_count": 17,
   "metadata": {},
   "outputs": [
    {
     "data": {
      "text/plain": [
       "<matplotlib.legend.Legend at 0x10f72e278>"
      ]
     },
     "execution_count": 17,
     "metadata": {},
     "output_type": "execute_result"
    },
    {
     "data": {
      "image/png": "[encoded data removed]",
      "text/plain": [
       "<Figure size 1080x432 with 1 Axes>"
      ]
     },
     "metadata": {},
     "output_type": "display_data"
    }
   ],
   "source": [
    "from sklearn.tree import DecisionTreeClassifier\n",
    "from sklearn.model_selection import cross_val_score\n",
    "fig, ax = plt.subplots(1,1, figsize=(15,6))\n",
    "x = list(range(1,21))\n",
    "means = []\n",
    "stds = []\n",
    "for cur_depth in range(1,21):\n",
    "    decision_tree_model = DecisionTreeClassifier(max_depth = cur_depth)\n",
    "    scores = cross_val_score(decision_tree_model, X_train, y_train, cv=5)\n",
    "    means.append(np.mean(scores))\n",
    "    stds.append(2*np.std(scores))\n",
    "    \n",
    "ax.errorbar(x, means, stds, marker='^', linestyle='dotted', label=\"Mean +-2(std)\")\n",
    "#ax.plot(x,means,'o',color=\"g\")\n",
    "ax.set_xticks(x)\n",
    "ax.axvline(x=6)\n",
    "ax.set_xlabel(\"Decision tree Depth\", fontsize=15)\n",
    "ax.set_ylabel(\"Performace\", fontsize=15)\n",
    "ax.set_title(\"Decision Tree Performance with Varying Depth\", fontsize=20)\n",
    "ax.legend()\n"
   ]
  },
  {
   "cell_type": "markdown",
   "metadata": {},
   "source": [
    "**Looking at the above graph looks like depth 6 seems to be perfect for our data. So we are going to use that depth to build our model and try testing it on the test data set ** "
   ]
  },
  {
   "cell_type": "code",
   "execution_count": 18,
   "metadata": {},
   "outputs": [],
   "source": [
    "from sklearn.tree import DecisionTreeClassifier\n",
    "from sklearn.model_selection import cross_val_score\n",
    "\n",
    "decision_tree_model = DecisionTreeClassifier(max_depth = 6).fit(X_train, y_train)\n",
    "\n",
    "model_collection[\"decision_tree\"] = decision_tree_model"
   ]
  },
  {
   "cell_type": "code",
   "execution_count": 19,
   "metadata": {},
   "outputs": [
    {
     "name": "stdout",
     "output_type": "stream",
     "text": [
      "Decision Tree Classifier Model score for test data: 94.91%\n"
     ]
    }
   ],
   "source": [
    "score = decision_tree_model.score(X_test, y_test)\n",
    "\n",
    "print(\"Decision Tree Classifier Model score for test data: {0:4.4}%\".format(score*100))\n"
   ]
  },
  {
   "cell_type": "markdown",
   "metadata": {},
   "source": [
    "Our decision tree seems to be peforming very poorly compared to other models, \n",
    "There are mulitple strategies that we have learnt in the class, we can apply \n",
    "Boosting , Bagging and Prunning to improve the results of the decision tree\n",
    "\n",
    "We are going to try **Boosting(AdaBoost) and Bagging ** and let's see if that improves the performance"
   ]
  },
  {
   "cell_type": "markdown",
   "metadata": {},
   "source": [
    "## Random Forests Classifier"
   ]
  },
  {
   "cell_type": "code",
   "execution_count": 20,
   "metadata": {},
   "outputs": [
    {
     "name": "stdout",
     "output_type": "stream",
     "text": [
      "Random Forest model score is  1.0\n"
     ]
    }
   ],
   "source": [
    "from sklearn.ensemble import RandomForestClassifier\n",
    "\n",
    "rf = RandomForestClassifier(max_depth=6)\n",
    "rf_model = rf.fit(X_train, y_train)\n",
    "score = rf_model.score(X_test, y_test)\n",
    "\n",
    "model_collection[\"random_forest\"] = rf_model\n",
    "\n",
    "print(\"Random Forest model score is \", score)"
   ]
  },
  {
   "cell_type": "markdown",
   "metadata": {},
   "source": [
    "### Boosting(AdaBoost Classifier)"
   ]
  },
  {
   "cell_type": "code",
   "execution_count": 21,
   "metadata": {},
   "outputs": [
    {
     "name": "stdout",
     "output_type": "stream",
     "text": [
      "(250869, 5)\n",
      "(250869, 1)\n"
     ]
    }
   ],
   "source": [
    "print(X_train.shape)\n",
    "print(y_train.shape)"
   ]
  },
  {
   "cell_type": "code",
   "execution_count": 36,
   "metadata": {},
   "outputs": [
    {
     "data": {
      "text/plain": [
       "Text(0.5,0.98,'Ada Boost Model Score vs # of iterations')"
      ]
     },
     "execution_count": 36,
     "metadata": {},
     "output_type": "execute_result"
    },
    {
     "data": {
      "image/png": "[encoded data removed]",
      "text/plain": [
       "<Figure size 1080x1080 with 3 Axes>"
      ]
     },
     "metadata": {},
     "output_type": "display_data"
    }
   ],
   "source": [
    "from sklearn import ensemble\n",
    "from sklearn import tree\n",
    "\n",
    "fig, ax = plt.subplots(3,1, figsize=(15,15))\n",
    "estimators_num = 400\n",
    "x_labels=range(1,estimators_num+1)\n",
    "ada_scores_test = []\n",
    "ada_scores_train = []\n",
    "for depth in range(1,4):\n",
    "    adaboost = ensemble.AdaBoostClassifier(tree.DecisionTreeClassifier(max_depth=depth), \n",
    "                                           n_estimators=estimators_num, learning_rate=.05)\n",
    "    adamodel = adaboost.fit(X_train, y_train)\n",
    "    \n",
    "    ax[depth-1].plot(list(x_labels),list(adamodel.staged_score(X_train,y_train)),color=\"r\",\n",
    "                     label=\"Trainng score with depth {}\".format(depth))\n",
    "    ax[depth-1].plot(list(x_labels),list(adamodel.staged_score(X_test,y_test)),color=\"g\", \n",
    "                     label=\"Test score with depth {}\".format(depth))\n",
    "    ax[depth-1].legend()\n",
    "    \n",
    "fig.suptitle(\"Ada Boost Model Score vs # of iterations\", fontsize=20)\n",
    "    \n",
    "    \n"
   ]
  },
  {
   "cell_type": "markdown",
   "metadata": {},
   "source": [
    "### Before We jump on to Neural Networks, \n",
    "### I would like to build an ensemble model with all the models that we have build so far and let's see how that changes our prediction"
   ]
  },
  {
   "cell_type": "code",
   "execution_count": 25,
   "metadata": {},
   "outputs": [],
   "source": [
    "from sklearn.utils import resample\n",
    "emsemble_train = pd.DataFrame()\n",
    "emsemble_test = pd.DataFrame()\n",
    "y_predict = []\n",
    "y_predict_test = []\n",
    "for model_name, model in model_collection.items():\n",
    "    if(model_name==\"poly_logistic_cv\"):\n",
    "        y_predict = model.predict(X_train_poly)\n",
    "    elif():\n",
    "         y_predict = model.predict(X_train)\n",
    "    \n",
    "    emsemble_train[model_name] = y_predict\n",
    "    \n",
    "    if(model_name==\"poly_logistic_cv\"):\n",
    "        y_predict_test = model.predict(X_test_poly)\n",
    "    elif():\n",
    "         y_predict_test = model.predict(X_test)\n",
    "    \n",
    "    emsemble_test[model_name] = y_predict_test\n"
   ]
  },
  {
   "cell_type": "code",
   "execution_count": 26,
   "metadata": {},
   "outputs": [
    {
     "data": {
      "text/html": [
       "<div>\n",
       "<style scoped>\n",
       "    .dataframe tbody tr th:only-of-type {\n",
       "        vertical-align: middle;\n",
       "    }\n",
       "\n",
       "    .dataframe tbody tr th {\n",
       "        vertical-align: top;\n",
       "    }\n",
       "\n",
       "    .dataframe thead th {\n",
       "        text-align: right;\n",
       "    }\n",
       "</style>\n",
       "<table border=\"1\" class=\"dataframe\">\n",
       "  <thead>\n",
       "    <tr style=\"text-align: right;\">\n",
       "      <th></th>\n",
       "      <th>simple_logistic</th>\n",
       "      <th>simple_logistic_CV</th>\n",
       "      <th>poly_logistic_cv</th>\n",
       "      <th>decision_tree</th>\n",
       "      <th>random_forest</th>\n",
       "    </tr>\n",
       "  </thead>\n",
       "  <tbody>\n",
       "    <tr>\n",
       "      <th>0</th>\n",
       "      <td>NaN</td>\n",
       "      <td>NaN</td>\n",
       "      <td>0.0</td>\n",
       "      <td>0.0</td>\n",
       "      <td>0.0</td>\n",
       "    </tr>\n",
       "    <tr>\n",
       "      <th>1</th>\n",
       "      <td>NaN</td>\n",
       "      <td>NaN</td>\n",
       "      <td>0.0</td>\n",
       "      <td>0.0</td>\n",
       "      <td>0.0</td>\n",
       "    </tr>\n",
       "    <tr>\n",
       "      <th>2</th>\n",
       "      <td>NaN</td>\n",
       "      <td>NaN</td>\n",
       "      <td>0.0</td>\n",
       "      <td>0.0</td>\n",
       "      <td>0.0</td>\n",
       "    </tr>\n",
       "    <tr>\n",
       "      <th>3</th>\n",
       "      <td>NaN</td>\n",
       "      <td>NaN</td>\n",
       "      <td>1.0</td>\n",
       "      <td>1.0</td>\n",
       "      <td>1.0</td>\n",
       "    </tr>\n",
       "    <tr>\n",
       "      <th>4</th>\n",
       "      <td>NaN</td>\n",
       "      <td>NaN</td>\n",
       "      <td>0.0</td>\n",
       "      <td>0.0</td>\n",
       "      <td>0.0</td>\n",
       "    </tr>\n",
       "  </tbody>\n",
       "</table>\n",
       "</div>"
      ],
      "text/plain": [
       "   simple_logistic  simple_logistic_CV  poly_logistic_cv  decision_tree  random_forest\n",
       "0              NaN                 NaN               0.0            0.0            0.0\n",
       "1              NaN                 NaN               0.0            0.0            0.0\n",
       "2              NaN                 NaN               0.0            0.0            0.0\n",
       "3              NaN                 NaN               1.0            1.0            1.0\n",
       "4              NaN                 NaN               0.0            0.0            0.0"
      ]
     },
     "execution_count": 26,
     "metadata": {},
     "output_type": "execute_result"
    }
   ],
   "source": [
    "emsemble_test.head()"
   ]
  },
  {
   "cell_type": "code",
   "execution_count": 27,
   "metadata": {},
   "outputs": [
    {
     "data": {
      "text/html": [
       "<div>\n",
       "<style scoped>\n",
       "    .dataframe tbody tr th:only-of-type {\n",
       "        vertical-align: middle;\n",
       "    }\n",
       "\n",
       "    .dataframe tbody tr th {\n",
       "        vertical-align: top;\n",
       "    }\n",
       "\n",
       "    .dataframe thead th {\n",
       "        text-align: right;\n",
       "    }\n",
       "</style>\n",
       "<table border=\"1\" class=\"dataframe\">\n",
       "  <thead>\n",
       "    <tr style=\"text-align: right;\">\n",
       "      <th></th>\n",
       "      <th>simple_logistic</th>\n",
       "      <th>simple_logistic_CV</th>\n",
       "      <th>poly_logistic_cv</th>\n",
       "      <th>decision_tree</th>\n",
       "      <th>random_forest</th>\n",
       "    </tr>\n",
       "  </thead>\n",
       "  <tbody>\n",
       "    <tr>\n",
       "      <th>0</th>\n",
       "      <td>NaN</td>\n",
       "      <td>NaN</td>\n",
       "      <td>1.0</td>\n",
       "      <td>1.0</td>\n",
       "      <td>1.0</td>\n",
       "    </tr>\n",
       "    <tr>\n",
       "      <th>1</th>\n",
       "      <td>NaN</td>\n",
       "      <td>NaN</td>\n",
       "      <td>1.0</td>\n",
       "      <td>1.0</td>\n",
       "      <td>1.0</td>\n",
       "    </tr>\n",
       "    <tr>\n",
       "      <th>2</th>\n",
       "      <td>NaN</td>\n",
       "      <td>NaN</td>\n",
       "      <td>1.0</td>\n",
       "      <td>1.0</td>\n",
       "      <td>1.0</td>\n",
       "    </tr>\n",
       "    <tr>\n",
       "      <th>3</th>\n",
       "      <td>NaN</td>\n",
       "      <td>NaN</td>\n",
       "      <td>0.0</td>\n",
       "      <td>0.0</td>\n",
       "      <td>0.0</td>\n",
       "    </tr>\n",
       "    <tr>\n",
       "      <th>4</th>\n",
       "      <td>NaN</td>\n",
       "      <td>NaN</td>\n",
       "      <td>1.0</td>\n",
       "      <td>1.0</td>\n",
       "      <td>1.0</td>\n",
       "    </tr>\n",
       "  </tbody>\n",
       "</table>\n",
       "</div>"
      ],
      "text/plain": [
       "   simple_logistic  simple_logistic_CV  poly_logistic_cv  decision_tree  random_forest\n",
       "0              NaN                 NaN               1.0            1.0            1.0\n",
       "1              NaN                 NaN               1.0            1.0            1.0\n",
       "2              NaN                 NaN               1.0            1.0            1.0\n",
       "3              NaN                 NaN               0.0            0.0            0.0\n",
       "4              NaN                 NaN               1.0            1.0            1.0"
      ]
     },
     "execution_count": 27,
     "metadata": {},
     "output_type": "execute_result"
    }
   ],
   "source": [
    "emsemble_train.head()"
   ]
  },
  {
   "cell_type": "code",
   "execution_count": 28,
   "metadata": {},
   "outputs": [
    {
     "name": "stdout",
     "output_type": "stream",
     "text": [
      "Decision Tree Classifier Model score for test data: 98.36%\n"
     ]
    }
   ],
   "source": [
    "from sklearn.metrics import accuracy_score\n",
    "meta_test_predictions = np.mean(emsemble_test,axis=1) >.5 #do we have more than 50% 1s?\n",
    "accuracy_score(y_test, meta_test_predictions)\n",
    "score =  accuracy_score(y_test, meta_test_predictions)\n",
    "print(\"Decision Tree Classifier Model score for test data: {0:4.4}%\".format(score*100))"
   ]
  },
  {
   "cell_type": "markdown",
   "metadata": {},
   "source": [
    "## Neural Networks "
   ]
  },
  {
   "cell_type": "code",
   "execution_count": 29,
   "metadata": {},
   "outputs": [
    {
     "name": "stderr",
     "output_type": "stream",
     "text": [
      "Using TensorFlow backend.\n"
     ]
    }
   ],
   "source": [
    "from keras.models import Sequential\n",
    "from keras.layers import Dense\n",
    "from keras.layers import Dropout\n",
    "\n",
    "model = Sequential([\n",
    "    Dense(500, input_shape=(5,), activation='relu'),\n",
    "    Dropout(.5),\n",
    "    Dense(100, activation='relu'),\n",
    "    Dropout(.5),\n",
    "    Dense(50, activation='relu'),\n",
    "    Dropout(.5),\n",
    "    Dense(1, activation='sigmoid')\n",
    "])\n",
    "\n",
    "model.compile(loss='binary_crossentropy', optimizer='adam', metrics=['accuracy'])\n",
    "\n"
   ]
  },
  {
   "cell_type": "code",
   "execution_count": 30,
   "metadata": {
    "scrolled": true
   },
   "outputs": [
    {
     "name": "stdout",
     "output_type": "stream",
     "text": [
      "_________________________________________________________________\n",
      "Layer (type)                 Output Shape              Param #   \n",
      "=================================================================\n",
      "dense_1 (Dense)              (None, 500)               3000      \n",
      "_________________________________________________________________\n",
      "dropout_1 (Dropout)          (None, 500)               0         \n",
      "_________________________________________________________________\n",
      "dense_2 (Dense)              (None, 100)               50100     \n",
      "_________________________________________________________________\n",
      "dropout_2 (Dropout)          (None, 100)               0         \n",
      "_________________________________________________________________\n",
      "dense_3 (Dense)              (None, 50)                5050      \n",
      "_________________________________________________________________\n",
      "dropout_3 (Dropout)          (None, 50)                0         \n",
      "_________________________________________________________________\n",
      "dense_4 (Dense)              (None, 1)                 51        \n",
      "=================================================================\n",
      "Total params: 58,201\n",
      "Trainable params: 58,201\n",
      "Non-trainable params: 0\n",
      "_________________________________________________________________\n"
     ]
    }
   ],
   "source": [
    "model.summary()"
   ]
  },
  {
   "cell_type": "code",
   "execution_count": 34,
   "metadata": {},
   "outputs": [
    {
     "name": "stdout",
     "output_type": "stream",
     "text": [
      "Train on 200695 samples, validate on 50174 samples\n",
      "Epoch 1/5\n",
      "200695/200695 [==============================] - 21s 103us/step - loss: 0.0652 - acc: 0.9742 - val_loss: 0.0374 - val_acc: 0.9881\n",
      "Epoch 2/5\n",
      "200695/200695 [==============================] - 20s 99us/step - loss: 0.0678 - acc: 0.9744 - val_loss: 0.0443 - val_acc: 0.9881\n",
      "Epoch 3/5\n",
      "200695/200695 [==============================] - 19s 95us/step - loss: 0.0675 - acc: 0.9744 - val_loss: 0.0392 - val_acc: 0.9881\n",
      "Epoch 4/5\n",
      "200695/200695 [==============================] - 19s 93us/step - loss: 0.0639 - acc: 0.9766 - val_loss: 0.0367 - val_acc: 0.9881\n",
      "Epoch 5/5\n",
      "200695/200695 [==============================] - 18s 92us/step - loss: 0.0637 - acc: 0.9773 - val_loss: 0.0480 - val_acc: 0.9796\n"
     ]
    },
    {
     "data": {
      "text/plain": [
       "<keras.callbacks.History at 0x1a41197518>"
      ]
     },
     "execution_count": 34,
     "metadata": {},
     "output_type": "execute_result"
    }
   ],
   "source": [
    "model.fit(X_train, y_train, epochs=5, batch_size=32, validation_split = .2)"
   ]
  },
  {
   "cell_type": "code",
   "execution_count": 33,
   "metadata": {},
   "outputs": [
    {
     "name": "stdout",
     "output_type": "stream",
     "text": [
      "83624/83624 [==============================] - 2s 26us/step\n",
      "[0.04736951490943521, 0.9682029082560031]\n"
     ]
    }
   ],
   "source": [
    "print(model.evaluate(X_test, y_test))"
   ]
  },
  {
   "cell_type": "markdown",
   "metadata": {},
   "source": [
    "**The accuracy and loss here is extremely impressive. **"
   ]
  },
  {
   "cell_type": "markdown",
   "metadata": {},
   "source": [
    "\n"
   ]
  },
  {
   "cell_type": "code",
   "execution_count": 35,
   "metadata": {},
   "outputs": [
    {
     "data": {
      "text/html": [
       "<div>\n",
       "<style scoped>\n",
       "    .dataframe tbody tr th:only-of-type {\n",
       "        vertical-align: middle;\n",
       "    }\n",
       "\n",
       "    .dataframe tbody tr th {\n",
       "        vertical-align: top;\n",
       "    }\n",
       "\n",
       "    .dataframe thead th {\n",
       "        text-align: right;\n",
       "    }\n",
       "</style>\n",
       "<table border=\"1\" class=\"dataframe\">\n",
       "  <thead>\n",
       "    <tr style=\"text-align: right;\">\n",
       "      <th></th>\n",
       "      <th>Models</th>\n",
       "      <th>Performance Score</th>\n",
       "    </tr>\n",
       "  </thead>\n",
       "  <tbody>\n",
       "    <tr>\n",
       "      <th>0</th>\n",
       "      <td>Simple Logistic Regression</td>\n",
       "      <td>89.62</td>\n",
       "    </tr>\n",
       "    <tr>\n",
       "      <th>1</th>\n",
       "      <td>Logistic Regression with CV</td>\n",
       "      <td>89.62</td>\n",
       "    </tr>\n",
       "    <tr>\n",
       "      <th>2</th>\n",
       "      <td>Polynomial Logistic Regression</td>\n",
       "      <td>89.62</td>\n",
       "    </tr>\n",
       "    <tr>\n",
       "      <th>3</th>\n",
       "      <td>Decision Tree Classifier</td>\n",
       "      <td>97.08</td>\n",
       "    </tr>\n",
       "    <tr>\n",
       "      <th>4</th>\n",
       "      <td>Random Forest</td>\n",
       "      <td>100</td>\n",
       "    </tr>\n",
       "    <tr>\n",
       "      <th>5</th>\n",
       "      <td>Ensembling</td>\n",
       "      <td>98.45</td>\n",
       "    </tr>\n",
       "    <tr>\n",
       "      <th>6</th>\n",
       "      <td>Neural Network</td>\n",
       "      <td>99.98</td>\n",
       "    </tr>\n",
       "  </tbody>\n",
       "</table>\n",
       "</div>"
      ],
      "text/plain": [
       "                           Models Performance Score\n",
       "0      Simple Logistic Regression             89.62\n",
       "1     Logistic Regression with CV             89.62\n",
       "2  Polynomial Logistic Regression             89.62\n",
       "3        Decision Tree Classifier             97.08\n",
       "4                   Random Forest               100\n",
       "5                      Ensembling             98.45\n",
       "6                  Neural Network             99.98"
      ]
     },
     "execution_count": 35,
     "metadata": {},
     "output_type": "execute_result"
    }
   ],
   "source": [
    "### Summary Report\n",
    "\n",
    "models = [\"Simple Logistic Regression\", \"Logistic Regression with CV\", \"Polynomial Logistic Regression\",\n",
    "          \"Decision Tree Classifier\", \"Random Forest\", \"Ensembling\", \"Neural Network\"]\n",
    "models_score = [\"89.62\", \"89.62\",\"89.62\",\"97.08\",\"100\",\"98.45\", \"99.98\"]\n",
    "Models_performance_summary = pd.DataFrame({\"Models\" :models, \"Performance Score\": models_score}, columns=[\"Models\", \"Performance Score\"])\n",
    "\n",
    "Models_performance_summary"
   ]
  },
  {
   "cell_type": "code",
   "execution_count": null,
   "metadata": {},
   "outputs": [],
   "source": []
  },
  {
   "cell_type": "code",
   "execution_count": null,
   "metadata": {},
   "outputs": [],
   "source": []
  }
 ],
 "metadata": {
  "kernelspec": {
   "display_name": "Python 3",
   "language": "python",
   "name": "python3"
  },
  "language_info": {
   "codemirror_mode": {
    "name": "ipython",
    "version": 3
   },
   "file_extension": ".py",
   "mimetype": "text/x-python",
   "name": "python",
   "nbconvert_exporter": "python",
   "pygments_lexer": "ipython3",
   "version": "3.6.5"
  }
 },
 "nbformat": 4,
 "nbformat_minor": 2
}
